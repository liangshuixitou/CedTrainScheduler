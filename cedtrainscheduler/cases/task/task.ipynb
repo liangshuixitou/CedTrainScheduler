{
 "cells": [
  {
   "cell_type": "code",
   "execution_count": 11,
   "metadata": {
    "collapsed": true
   },
   "outputs": [],
   "source": [
    "import os.path\n",
    "from typing import Optional\n",
    "\n",
    "import numpy as np\n",
    "import pandas as pd\n"
   ]
  },
  {
   "cell_type": "code",
   "execution_count": 12,
   "metadata": {
    "collapsed": false,
    "pycharm": {
     "name": "#%%\n"
    }
   },
   "outputs": [],
   "source": [
    "DATA_DIR = \"./ali-cluster/cluster-trace-gpu-v2020/data\"\n",
    "\n",
    "def read_csv_with_header(\n",
    "    file_path: str,\n",
    "    header: Optional[list[str]] = None\n",
    ") -> pd.DataFrame:\n",
    "    \"\"\"读取 CSV 文件并处理表头\n",
    "\n",
    "    Args:\n",
    "        file_path: CSV 文件路径\n",
    "        header: 可选的表头列表。如果为 None, 则从对应的 .header 文件读取\n",
    "\n",
    "    Returns:\n",
    "        pd.DataFrame: 读取并设置好表头的数据框\n",
    "\n",
    "    Raises:\n",
    "        FileNotFoundError: 当 CSV 文件或对应的 header 文件不存在时\n",
    "        pd.errors.EmptyDataError: 当 CSV 文件为空时\n",
    "    \"\"\"\n",
    "    df = pd.read_csv(file_path, header=None)\n",
    "    df.columns = (pd.read_csv(\"{}.header\".format(file_path.split('.csv')[0])).columns\n",
    "                 if header is None else header)\n",
    "    return df"
   ]
  },
  {
   "cell_type": "code",
   "execution_count": 13,
   "metadata": {
    "collapsed": false,
    "pycharm": {
     "name": "#%%\n"
    }
   },
   "outputs": [],
   "source": [
    "def preprocess_training_data(task_df) -> pd.DataFrame:\n",
    "    \"\"\"数据预处理：筛选和清理训练任务数据\n",
    "\n",
    "    对原始任务数据进行预处理，包括：\n",
    "    1. 合并任务和作业数据\n",
    "    2. 清理无效时间戳\n",
    "    3. 筛选有效训练任务\n",
    "    4. 标准化时间\n",
    "    5. 统一GPU类型\n",
    "\n",
    "    Args:\n",
    "        task_df: 任务数据表\n",
    "        job_df: 作业数据表\n",
    "\n",
    "    Returns:\n",
    "        DataFrame: 处理后的训练任务数据，包含以下主要字段：\n",
    "            - job_name: 作业名称\n",
    "            - gpu_type: GPU类型(V100或T4)\n",
    "            - runtime: 运行时长\n",
    "            - norm_job_submit_time: 标准化后的作业提交时间\n",
    "    \"\"\"\n",
    "    # 常量定义\n",
    "    MIN_RUNTIME_SECONDS = 1000.0  # 最小运行时间（秒）\n",
    "    VALID_TASK_TYPES = ['tensorflow', 'PyTorchWorker', 'worker']\n",
    "\n",
    "\n",
    "    # 处理无效的时间戳\n",
    "    task_df.loc[task_df.start_time == 0, ['start_time', 'end_time']] = np.nan\n",
    "    task_df['runtime'] = task_df.end_time - task_df.start_time\n",
    "\n",
    "    # 筛选有效的训练任务\n",
    "    valid_tasks = task_df[\n",
    "        (task_df['status'] == 'Terminated') &             # 已完成的任务\n",
    "        (task_df['gpu_type'] != 'MISC') &                 # 排除杂项GPU类型\n",
    "        (task_df['plan_gpu'] % 100 == 0) &                # 完整GPU使用\n",
    "        (task_df['runtime'] >= MIN_RUNTIME_SECONDS) &     # 运行时间足够长\n",
    "        (task_df['inst_num'] <= 20) &                     # 实例数量小于20\n",
    "        (task_df['task_name'].isin(VALID_TASK_TYPES))     # 有效的任务类型\n",
    "    ]\n",
    "\n",
    "    # 按提交时间排序并标准化\n",
    "    valid_tasks = valid_tasks.sort_values(['start_time'])\n",
    "\n",
    "    # 去重并统一GPU类型名称\n",
    "    valid_tasks.loc[valid_tasks.gpu_type == 'V100M32', 'gpu_type'] = 'V100'\n",
    "\n",
    "    return valid_tasks"
   ]
  },
  {
   "cell_type": "code",
   "execution_count": 14,
   "metadata": {
    "collapsed": false,
    "pycharm": {
     "name": "#%%\n"
    }
   },
   "outputs": [],
   "source": [
    "import random\n",
    "\n",
    "\n",
    "def sample_tasks(task_df: pd.DataFrame, jobs_count: int) -> pd.DataFrame:\n",
    "    \"\"\"\n",
    "    从任务数据中随机采样指定数量的任务\n",
    "\n",
    "    Args:\n",
    "        task_df: 任务数据表\n",
    "        jobs_count: 采样任务数量\n",
    "\n",
    "    Returns:\n",
    "        pd.DataFrame: 采样后的任务数据表\n",
    "    \"\"\"\n",
    "    return task_df.sample(n=jobs_count)\n",
    "\n",
    "\n",
    "def gen_task_runtimes(task_df: pd.DataFrame) -> pd.DataFrame:\n",
    "    \"\"\"生成不同 GPU 类型的运行时间\"\"\"\n",
    "    t4_performance = 8.1\n",
    "    p100_performance = 9.3\n",
    "    v100_performance = 15.7\n",
    "\n",
    "    runtimes = {\n",
    "        'T4': (1, 1),\n",
    "        'P100': (t4_performance / p100_performance, t4_performance / p100_performance),\n",
    "        'V100': (t4_performance / v100_performance, t4_performance / v100_performance),\n",
    "    }\n",
    "    gpu_types = runtimes.keys()\n",
    "\n",
    "    def gen_runtime(from_gpu, to_gpu, origin_runtime):\n",
    "        if from_gpu == to_gpu:\n",
    "            return origin_runtime\n",
    "        if from_gpu not in gpu_types:\n",
    "            print(\"not in gpu_types:\", from_gpu)\n",
    "        to_rand = random.uniform(*runtimes[to_gpu])\n",
    "        from_rand = random.uniform(*runtimes[from_gpu])\n",
    "        return int(origin_runtime * to_rand / from_rand)\n",
    "\n",
    "    for gpu_type in gpu_types:\n",
    "        task_df[f'runtime_{gpu_type}'] = task_df.apply(\n",
    "            lambda row, gpu_type=gpu_type: gen_runtime(row['gpu_type'], gpu_type, row['runtime']),\n",
    "            axis=1\n",
    "        )\n",
    "    return task_df\n",
    "\n",
    "def to_csv(df, name):\n",
    "    df = df.reset_index(drop=True)\n",
    "    df.to_csv(name)"
   ]
  },
  {
   "cell_type": "code",
   "execution_count": null,
   "metadata": {
    "collapsed": false,
    "pycharm": {
     "name": "#%%\n"
    }
   },
   "outputs": [
    {
     "name": "stdout",
     "output_type": "stream",
     "text": [
      "inst_num\n",
      "1.0     4169\n",
      "10.0     172\n",
      "20.0     161\n",
      "16.0     133\n",
      "2.0       94\n",
      "4.0       80\n",
      "5.0       68\n",
      "8.0       67\n",
      "6.0       20\n",
      "3.0       15\n",
      "12.0       9\n",
      "15.0       5\n",
      "9.0        4\n",
      "7.0        2\n",
      "14.0       1\n",
      "Name: count, dtype: int64\n"
     ]
    }
   ],
   "source": [
    "def main():\n",
    "    jobs_count = 5000\n",
    "    task_df = read_csv_with_header(os.path.join(DATA_DIR, \"pai_task_table.csv\"))\n",
    "    valid_task_df = preprocess_training_data(task_df)\n",
    "    sample_task_df = sample_tasks(valid_task_df, jobs_count)\n",
    "    task_wrap_runtimes_df = gen_task_runtimes(sample_task_df)\n",
    "\n",
    "    # 统计信息\n",
    "    to_csv(task_wrap_runtimes_df, f\"case_{jobs_count}_tasks.csv\")\n",
    "\n",
    "    # # 输出不同inst_name的数量\n",
    "    # print(task_wrap_runtimes_df['inst_num'].value_counts())\n",
    "if __name__ == '__main__':\n",
    "    main()"
   ]
  }
 ],
 "metadata": {
  "kernelspec": {
   "display_name": "ced-train",
   "language": "python",
   "name": "python3"
  },
  "language_info": {
   "codemirror_mode": {
    "name": "ipython",
    "version": 3
   },
   "file_extension": ".py",
   "mimetype": "text/x-python",
   "name": "python",
   "nbconvert_exporter": "python",
   "pygments_lexer": "ipython3",
   "version": "3.12.9"
  }
 },
 "nbformat": 4,
 "nbformat_minor": 0
}
